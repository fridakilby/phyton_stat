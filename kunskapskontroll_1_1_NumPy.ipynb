{
 "cells": [
  {
   "cell_type": "markdown",
   "id": "dacf74e6",
   "metadata": {},
   "source": [
    "# NumPy"
   ]
  },
  {
   "cell_type": "markdown",
   "id": "01b2bf34",
   "metadata": {},
   "source": [
    "Read the links: https://numpy.org/doc/stable/user/quickstart.html  and https://numpy.org/doc/stable/user/basics.broadcasting.html  before solving the exercises. "
   ]
  },
  {
   "cell_type": "code",
   "execution_count": 1,
   "id": "1f79e4a6",
   "metadata": {},
   "outputs": [],
   "source": [
    "import numpy as np"
   ]
  },
  {
   "cell_type": "markdown",
   "id": "7dae6889",
   "metadata": {},
   "source": [
    "### Print out the dimension (number of axes), shape, size and the datatype of the matrix A."
   ]
  },
  {
   "cell_type": "code",
   "execution_count": 2,
   "id": "7b3678cd",
   "metadata": {},
   "outputs": [],
   "source": [
    "A = np.arange(1, 16).reshape(3,5)"
   ]
  },
  {
   "cell_type": "code",
   "execution_count": 3,
   "id": "31d39235",
   "metadata": {},
   "outputs": [
    {
     "name": "stdout",
     "output_type": "stream",
     "text": [
      "2\n",
      "(3, 5)\n",
      "15\n",
      "int32\n"
     ]
    }
   ],
   "source": [
    "# print(A) # whole matrice\n",
    "print(A.ndim) # dimension of the matrice\n",
    "print(A.shape) # size of matrice n x m\n",
    "print(A.size) # number of elements in the matrice\n",
    "print(A.dtype) # datatype of elements"
   ]
  },
  {
   "cell_type": "markdown",
   "id": "e56d2a96",
   "metadata": {},
   "source": [
    "### Do the following computations on the matrices B and C: \n",
    "* Elementwise subtraction. \n",
    "* Elementwise multiplication. \n",
    "* Matrix multiplication (by default you should use the @ operator)."
   ]
  },
  {
   "cell_type": "code",
   "execution_count": 4,
   "id": "a7053fbb",
   "metadata": {},
   "outputs": [
    {
     "name": "stdout",
     "output_type": "stream",
     "text": [
      "[[1 2 3]\n",
      " [4 5 6]\n",
      " [7 8 9]]\n",
      "\n",
      "[[2. 2. 2.]\n",
      " [2. 2. 2.]\n",
      " [2. 2. 2.]]\n"
     ]
    }
   ],
   "source": [
    "B = np.arange(1, 10).reshape(3, 3)\n",
    "C = np.ones((3, 3))*2\n",
    "\n",
    "print(B)\n",
    "print()\n",
    "print(C)"
   ]
  },
  {
   "cell_type": "code",
   "execution_count": 5,
   "id": "3cd794ae",
   "metadata": {
    "scrolled": true
   },
   "outputs": [
    {
     "data": {
      "text/plain": [
       "array([[-1.,  0.,  1.],\n",
       "       [ 2.,  3.,  4.],\n",
       "       [ 5.,  6.,  7.]])"
      ]
     },
     "execution_count": 5,
     "metadata": {},
     "output_type": "execute_result"
    }
   ],
   "source": [
    "B-C # Elementwise subtraction."
   ]
  },
  {
   "cell_type": "code",
   "execution_count": 6,
   "id": "518b11a3",
   "metadata": {
    "scrolled": true
   },
   "outputs": [
    {
     "data": {
      "text/plain": [
       "array([[ 2.,  4.,  6.],\n",
       "       [ 8., 10., 12.],\n",
       "       [14., 16., 18.]])"
      ]
     },
     "execution_count": 6,
     "metadata": {},
     "output_type": "execute_result"
    }
   ],
   "source": [
    "B*C # Elementwise multiplication"
   ]
  },
  {
   "cell_type": "code",
   "execution_count": 7,
   "id": "e9b86b0d",
   "metadata": {},
   "outputs": [
    {
     "data": {
      "text/plain": [
       "array([[12., 12., 12.],\n",
       "       [30., 30., 30.],\n",
       "       [48., 48., 48.]])"
      ]
     },
     "execution_count": 7,
     "metadata": {},
     "output_type": "execute_result"
    }
   ],
   "source": [
    "B@C # Matrice multiplication"
   ]
  },
  {
   "cell_type": "markdown",
   "id": "96030d53",
   "metadata": {},
   "source": [
    "### Do the following calculations on the matrix:\n",
    "* Exponentiate each number elementwise (use the np.exp function).\n",
    "\n",
    "* Calculate the minimum value in the whole matrix. \n",
    "* Calculcate the minimum value in each row. \n",
    "* Calculcate the minimum value in each column. \n",
    "\n",
    "\n",
    "* Find the index value for the minimum value in the whole matrix (hint: use np.argmin).\n",
    "* Find the index value for the minimum value in each row (hint: use np.argmin).\n",
    "\n",
    "\n",
    "* Calculate the sum for all elements.\n",
    "* Calculate the mean for each column. \n",
    "* Calculate the median for each column. "
   ]
  },
  {
   "cell_type": "code",
   "execution_count": 8,
   "id": "f8a9166b",
   "metadata": {},
   "outputs": [
    {
     "name": "stdout",
     "output_type": "stream",
     "text": [
      "[[1 2 3]\n",
      " [4 5 6]\n",
      " [7 8 9]]\n"
     ]
    }
   ],
   "source": [
    "B = np.arange(1, 10).reshape(3, 3)\n",
    "print(B)"
   ]
  },
  {
   "cell_type": "code",
   "execution_count": 9,
   "id": "f03f24f7",
   "metadata": {
    "scrolled": true
   },
   "outputs": [
    {
     "data": {
      "text/plain": [
       "array([[2.71828183e+00, 7.38905610e+00, 2.00855369e+01],\n",
       "       [5.45981500e+01, 1.48413159e+02, 4.03428793e+02],\n",
       "       [1.09663316e+03, 2.98095799e+03, 8.10308393e+03]])"
      ]
     },
     "execution_count": 9,
     "metadata": {},
     "output_type": "execute_result"
    }
   ],
   "source": [
    "np.exp(B) # every element exponentiated"
   ]
  },
  {
   "cell_type": "code",
   "execution_count": 10,
   "id": "b2c24ebc",
   "metadata": {},
   "outputs": [
    {
     "data": {
      "text/plain": [
       "1"
      ]
     },
     "execution_count": 10,
     "metadata": {},
     "output_type": "execute_result"
    }
   ],
   "source": [
    "np.min(B) # the smallest value in the matrice"
   ]
  },
  {
   "cell_type": "code",
   "execution_count": 11,
   "id": "3b34f69a",
   "metadata": {},
   "outputs": [
    {
     "name": "stdout",
     "output_type": "stream",
     "text": [
      "1\n",
      "4\n",
      "7\n",
      "[1 4 7]\n"
     ]
    }
   ],
   "source": [
    "print(np.min(B[0])) # printing the smallest value in first row (1,2,3)\n",
    "print(np.min(B[1])) # printing the smallest value in second row (4,5,6)\n",
    "print(np.min(B[2])) # printing the smallest value in third row (7,8,9)\n",
    "\n",
    "print(np.min(B, axis=1)) # an alternative way to do the same calculation"
   ]
  },
  {
   "cell_type": "code",
   "execution_count": 12,
   "id": "1688bd7d",
   "metadata": {},
   "outputs": [
    {
     "name": "stdout",
     "output_type": "stream",
     "text": [
      "1\n",
      "2\n",
      "3\n",
      "[1 2 3]\n"
     ]
    }
   ],
   "source": [
    "print(np.min(B[:,0])) # printing the smallest value in first column (1,4,7)\n",
    "print(np.min(B[:,1])) # printing the smallest value in second column (2,5,8)\n",
    "print(np.min(B[:,2])) # printing the smallest value in third column (3,6,9)\n",
    "\n",
    "print(np.min(B, axis=0)) # an alternative way to do the same calculation"
   ]
  },
  {
   "cell_type": "code",
   "execution_count": 13,
   "id": "7ad7df6f",
   "metadata": {},
   "outputs": [
    {
     "name": "stdout",
     "output_type": "stream",
     "text": [
      "0\n",
      "[0 0 0]\n"
     ]
    }
   ],
   "source": [
    "print(np.argmin(B)) # find the index for the smallest value in the matrice with use.np.argmin\n",
    "print(np.argmin(B, axis=0)) # find the index for the smallest value in each row"
   ]
  },
  {
   "cell_type": "code",
   "execution_count": 14,
   "id": "8ef50901",
   "metadata": {},
   "outputs": [
    {
     "name": "stdout",
     "output_type": "stream",
     "text": [
      "45\n",
      "[4. 5. 6.]\n",
      "[4. 5. 6.]\n"
     ]
    }
   ],
   "source": [
    "print(np.sum(B)) # the sum of all elements\n",
    "print(np.mean(B, axis=0)) # mean per column\n",
    "print(np.median(B, axis=0)) # median per column\n",
    "\n",
    "# jag ser att lösningsförslag har angett axis=1, men axis=0 bör vara matematiskt korrekt\n",
    "# ty 1+4+7 = 12 12/3=4 2+5+8=15 15/3=5 3+6+9=18 18/3=6\n",
    "# axis=1 ger medelvärden för varje rad"
   ]
  },
  {
   "cell_type": "markdown",
   "id": "541eb7ba",
   "metadata": {},
   "source": [
    "### What does it mean when you provide fewer indices than axes when slicing? See example below."
   ]
  },
  {
   "cell_type": "code",
   "execution_count": 15,
   "id": "9c8abf56",
   "metadata": {},
   "outputs": [
    {
     "name": "stdout",
     "output_type": "stream",
     "text": [
      "[[ 1  2  3  4  5]\n",
      " [ 6  7  8  9 10]\n",
      " [11 12 13 14 15]]\n"
     ]
    }
   ],
   "source": [
    "print(A)"
   ]
  },
  {
   "cell_type": "code",
   "execution_count": 16,
   "id": "69415f7b",
   "metadata": {},
   "outputs": [
    {
     "data": {
      "text/plain": [
       "array([ 6,  7,  8,  9, 10])"
      ]
     },
     "execution_count": 16,
     "metadata": {},
     "output_type": "execute_result"
    }
   ],
   "source": [
    "A[1]"
   ]
  },
  {
   "cell_type": "markdown",
   "id": "6c53541b",
   "metadata": {},
   "source": [
    "**Answer:**"
   ]
  },
  {
   "cell_type": "code",
   "execution_count": 17,
   "id": "de01e120",
   "metadata": {},
   "outputs": [],
   "source": [
    "# I will get all the elements in the the second row with index=1\n",
    "# Wbvhen fewer indices are provided than the number of axes, the missing indices are considered complete slices"
   ]
  },
  {
   "cell_type": "markdown",
   "id": "6652d0c9",
   "metadata": {},
   "source": [
    "### Iterating over multidimensional arrays is done with respect to the first axis, so in the example below we iterate trough the rows. If you would like to iterate through the array *elementwise*, how would you do that?"
   ]
  },
  {
   "cell_type": "code",
   "execution_count": 18,
   "id": "9459864f",
   "metadata": {},
   "outputs": [
    {
     "data": {
      "text/plain": [
       "array([[ 1,  2,  3,  4,  5],\n",
       "       [ 6,  7,  8,  9, 10],\n",
       "       [11, 12, 13, 14, 15]])"
      ]
     },
     "execution_count": 18,
     "metadata": {},
     "output_type": "execute_result"
    }
   ],
   "source": [
    "A"
   ]
  },
  {
   "cell_type": "code",
   "execution_count": 19,
   "id": "a671bb5a",
   "metadata": {},
   "outputs": [
    {
     "name": "stdout",
     "output_type": "stream",
     "text": [
      "[1 2 3 4 5]\n",
      "[ 6  7  8  9 10]\n",
      "[11 12 13 14 15]\n"
     ]
    }
   ],
   "source": [
    "for i in A:\n",
    "    print(i)"
   ]
  },
  {
   "cell_type": "code",
   "execution_count": 20,
   "id": "2b9b594d",
   "metadata": {},
   "outputs": [
    {
     "name": "stdout",
     "output_type": "stream",
     "text": [
      "1 2 3 4 5 6 7 8 9 10 11 12 13 14 15 "
     ]
    }
   ],
   "source": [
    "for i in np.nditer(A): # works but gets order from memory so there's probably another solution/function to use\n",
    "    print(i, end=' ')"
   ]
  },
  {
   "cell_type": "markdown",
   "id": "608a2583",
   "metadata": {},
   "source": [
    "### Explain what the code below does. More specifically, b has three axes - what does this mean? "
   ]
  },
  {
   "cell_type": "code",
   "execution_count": 21,
   "id": "f8f9b26f",
   "metadata": {},
   "outputs": [
    {
     "name": "stdout",
     "output_type": "stream",
     "text": [
      "[ 0  1  2  3  4  5  6  7  8  9 10 11 12 13 14 15 16 17 18 19 20 21 22 23\n",
      " 24 25 26 27 28 29]\n",
      "\n",
      "[[[ 0  1  2  3  4]\n",
      "  [ 5  6  7  8  9]\n",
      "  [10 11 12 13 14]]\n",
      "\n",
      " [[15 16 17 18 19]\n",
      "  [20 21 22 23 24]\n",
      "  [25 26 27 28 29]]]\n"
     ]
    }
   ],
   "source": [
    "a = np.arange(30)\n",
    "b = a.reshape((2, 3, -1))\n",
    "print(a)\n",
    "print()\n",
    "\n",
    "print(b)"
   ]
  },
  {
   "cell_type": "code",
   "execution_count": 22,
   "id": "863a45df",
   "metadata": {},
   "outputs": [],
   "source": [
    "# code creates a matrice a with one row and 30 elements 0 to 29\n",
    "# code reshapes the values of matrice a to matrice b\n",
    "# in shape with 3 dimensions, 2 axes, three rows (first axis has legth of 3) and as many colums as needed (-1) for the 30 elements\n",
    "# prints matrice a, empty line and matrice b"
   ]
  },
  {
   "cell_type": "markdown",
   "id": "ab5933d5",
   "metadata": {},
   "source": [
    "### Broadcasting\n",
    "**Read the following link about broadcasting: https://numpy.org/doc/stable/user/basics.broadcasting.html#basics-broadcasting**"
   ]
  },
  {
   "cell_type": "markdown",
   "id": "039805ba",
   "metadata": {},
   "source": [
    "# Remark on Broadcasting when doing Linear Algebra calculations in Python. "
   ]
  },
  {
   "cell_type": "markdown",
   "id": "c4bcc147",
   "metadata": {},
   "source": [
    "### From the mathematical rules of matrix addition, the operation below (m1 + m2) does not make sense. The reason is that matrix addition requires two matrices of the same size. In Python however, it works due to broadcasting rules in NumPy. So you must be careful when doing Linear Algebra calculations in Python since they do not follow the \"mathematical rules\". This can however easily be handled by doing some simple programming, for example validating that two matrices have the same shape is easy if you for instance want to add two matrices. "
   ]
  },
  {
   "cell_type": "code",
   "execution_count": 23,
   "id": "1fd46778",
   "metadata": {},
   "outputs": [
    {
     "name": "stdout",
     "output_type": "stream",
     "text": [
      "[[2 3]\n",
      " [4 5]]\n"
     ]
    }
   ],
   "source": [
    "m1 = np.array([[1, 2], [3, 4]])\n",
    "m2 = np.array([1, 1])\n",
    "print(m1 + m2)"
   ]
  },
  {
   "cell_type": "markdown",
   "id": "047d6576",
   "metadata": {},
   "source": [
    "### The example below would also not be allowed if following the \"mathematical rules\" in Linear Algebra. But it works due to broadcasting in NumPy. "
   ]
  },
  {
   "cell_type": "code",
   "execution_count": 24,
   "id": "5e6ef2e4",
   "metadata": {},
   "outputs": [
    {
     "name": "stdout",
     "output_type": "stream",
     "text": [
      "[2 3 4]\n"
     ]
    }
   ],
   "source": [
    "v1 = np.array([1, 2, 3])\n",
    "print(v1 + 1)"
   ]
  },
  {
   "cell_type": "code",
   "execution_count": 25,
   "id": "e2cbae26",
   "metadata": {},
   "outputs": [
    {
     "name": "stdout",
     "output_type": "stream",
     "text": [
      "[[1 2]\n",
      " [3 4]]\n",
      "[2 2]\n"
     ]
    }
   ],
   "source": [
    "A = np.arange(1, 5).reshape(2,2)\n",
    "print(A)\n",
    "\n",
    "b = np.array([2, 2])\n",
    "print(b)"
   ]
  },
  {
   "cell_type": "markdown",
   "id": "722fd5cd",
   "metadata": {},
   "source": [
    "# Linear Algebra Exercises"
   ]
  },
  {
   "cell_type": "markdown",
   "id": "b8935099",
   "metadata": {},
   "source": [
    "The exercies are taken from the \"Matrix Algebra for Engineers\" by Chasnov: https://www.math.hkust.edu.hk/~machas/matrix-algebra-for-engineers.pdf .\n",
    "\n",
    "Do the following exercises: \n",
    "* Chapter 2, exercise 1-3.\n",
    "* Quiz on p.11, exercise 2. \n",
    "* Chapter 6, exercise 1. \n",
    "* Quiz on p.19, exercise 3. \n",
    "\n",
    "\n",
    "* Chapter 10, exercise 1. \n",
    "* Chapter 12 exercise 1. \n"
   ]
  },
  {
   "cell_type": "code",
   "execution_count": 26,
   "id": "a452a77a",
   "metadata": {},
   "outputs": [
    {
     "name": "stdout",
     "output_type": "stream",
     "text": [
      "[[ 2  1 -1]\n",
      " [ 1 -1  1]]\n",
      "[[ 4 -2  1]\n",
      " [ 2 -4 -2]]\n",
      "[[1 2]\n",
      " [2 1]]\n",
      "[[3 4]\n",
      " [4 3]]\n",
      "[[1]\n",
      " [2]]\n"
     ]
    }
   ],
   "source": [
    "A = np.array([[2, 1, -1], [1, -1, 1]])\n",
    "B = np.array([[4, -2, 1], [2, -4, -2]])\n",
    "\n",
    "C = np.array([[1, 2], [2, 1]])\n",
    "D = np.array([[3, 4], [4, 3]])\n",
    "\n",
    "E = np.array([[1], [2]])\n",
    "\n",
    "print(A)\n",
    "print(B)\n",
    "print(C)\n",
    "print(D)\n",
    "print(E)"
   ]
  },
  {
   "cell_type": "markdown",
   "id": "9d8366cc",
   "metadata": {},
   "source": [
    "**Chap2. Question 1.**\n",
    "\n",
    "**Write a function \"add_mult_matrices\" that takes two matrices as input arguments (validate that the input are of the type numpy.ndarray by using the isinstance function), a third argument that is either 'add' or 'multiply' that specifies if you want to add or multiply the matrices (validate that the third argument is either 'add' or 'multiply'). When doing matrix addition, validate that the matrices have the same size. When doing matrix multiplication, validate that the sizes conform (i.e. number of columns in the first matrix is equal to the number of rows in the second matrix).**\n",
    "\n",
    "In this exercise, create a function that takes two matrices as input and either adds or multiplies them by specifying a argument as either 'add' or 'multiply'. Validate that both matrices taken as input are of the type ndarray (use the isinstance function)."
   ]
  },
  {
   "cell_type": "code",
   "execution_count": 27,
   "id": "535ee48c",
   "metadata": {},
   "outputs": [
    {
     "data": {
      "text/plain": [
       "array([[ 6, -1,  0],\n",
       "       [ 3, -5, -1]])"
      ]
     },
     "execution_count": 27,
     "metadata": {},
     "output_type": "execute_result"
    }
   ],
   "source": [
    "F = 'string'\n",
    "\n",
    "def add_mult_matrice(mat_a, mat_b, choice):\n",
    "    \"\"\" function that takes two matrices and multiply or add them mathematical correct\"\"\"\n",
    "    if isinstance(mat_a, np.ndarray) and isinstance(mat_b, np.ndarray): # check if variables is ndarray\n",
    "              \n",
    "        if choice == 'add': # if choice is to add\n",
    "            if mat_a.shape == mat_b.shape: # and they have the same size\n",
    "                return(mat_a+mat_b) # add matrices\n",
    "            else:\n",
    "                print('Matrices are not of same size so no addition is proceeded') # if not send message\n",
    "                \n",
    "        elif choice == 'multiply': # if choice is to multiply\n",
    "            rows_a, cols_a = mat_a.shape\n",
    "            rows_b, cols_b = mat_b.shape\n",
    "    \n",
    "            if cols_a == rows_b: # check that size of column in a is the same as row in b\n",
    "                 return(mat_a@mat_b)\n",
    "            else:\n",
    "                print('Columns of first matrice does not match rows of second matrice, no multiply has proceeeded') # if not send message\n",
    "\n",
    "        else:\n",
    "            print('You have too choose add or multiply') # if choice is not add or multiply send message     \n",
    "        \n",
    "    else:\n",
    "        print ('One or both of arguments are not an matrice') # if matrices is not same size send message\n",
    "\n",
    "add_mult_matrice(A, B, 'add')"
   ]
  },
  {
   "cell_type": "code",
   "execution_count": 28,
   "id": "6242fe3a",
   "metadata": {
    "scrolled": true
   },
   "outputs": [
    {
     "data": {
      "text/plain": [
       "array([[ 0, -4,  3],\n",
       "       [ 0, -2, -4]])"
      ]
     },
     "execution_count": 28,
     "metadata": {},
     "output_type": "execute_result"
    }
   ],
   "source": [
    "add_mult_matrice((B), (-2*A), 'add') # trying to calculate B-2A"
   ]
  },
  {
   "cell_type": "code",
   "execution_count": 29,
   "id": "fb2cd1ab",
   "metadata": {},
   "outputs": [
    {
     "name": "stdout",
     "output_type": "stream",
     "text": [
      "Matrices are not of same size so no addition is proceeded\n"
     ]
    }
   ],
   "source": [
    "add_mult_matrice((3*C), (-1*E), 'add') # trying to calculate 3C-E"
   ]
  },
  {
   "cell_type": "code",
   "execution_count": 30,
   "id": "9dc585b2",
   "metadata": {},
   "outputs": [
    {
     "name": "stdout",
     "output_type": "stream",
     "text": [
      "Columns of first matrice does not match rows of second matrice, no multiply has proceeeded\n"
     ]
    }
   ],
   "source": [
    "add_mult_matrice(A, C, 'multiply') # trying to calculate A*C"
   ]
  },
  {
   "cell_type": "code",
   "execution_count": 31,
   "id": "2e48612d",
   "metadata": {},
   "outputs": [
    {
     "data": {
      "text/plain": [
       "array([[11, 10],\n",
       "       [10, 11]])"
      ]
     },
     "execution_count": 31,
     "metadata": {},
     "output_type": "execute_result"
    }
   ],
   "source": [
    "add_mult_matrice(C, D, 'multiply') # trying to calculate C*D"
   ]
  },
  {
   "cell_type": "code",
   "execution_count": 32,
   "id": "7973349d",
   "metadata": {},
   "outputs": [
    {
     "data": {
      "text/plain": [
       "array([[  8, -10,  -3],\n",
       "       [ 10,  -8,   0]])"
      ]
     },
     "execution_count": 32,
     "metadata": {},
     "output_type": "execute_result"
    }
   ],
   "source": [
    "add_mult_matrice(C, B, 'multiply') # trying to calculate C*B"
   ]
  },
  {
   "cell_type": "markdown",
   "id": "5000c829",
   "metadata": {},
   "source": [
    "**Chap2. Question 2**"
   ]
  },
  {
   "cell_type": "code",
   "execution_count": 33,
   "id": "60d979c5",
   "metadata": {},
   "outputs": [
    {
     "name": "stdout",
     "output_type": "stream",
     "text": [
      "AB = AC\n",
      "B =! C\n"
     ]
    }
   ],
   "source": [
    "A2 = np.array([[1, 2], [2, 4]])\n",
    "B2 = np.array([[2, 1], [1, 3]])\n",
    "C2 = np.array([[4, 3], [0, 2]])\n",
    "\n",
    "AB = add_mult_matrice(A2, B2, 'multiply')\n",
    "AC = add_mult_matrice(A2, C2, 'multiply')\n",
    "\n",
    "if AB.all() == AC.all(): # check if all elements in AB and AC are the same\n",
    "    print('AB = AC')\n",
    "\n",
    "if B2.all() is not C2.all(): # check if all elements in B and C are not the same\n",
    "    print ('B =! C')"
   ]
  },
  {
   "cell_type": "markdown",
   "id": "a7f5b140",
   "metadata": {},
   "source": [
    "**Chap2. Question 3**"
   ]
  },
  {
   "cell_type": "code",
   "execution_count": 34,
   "id": "668b1323",
   "metadata": {},
   "outputs": [
    {
     "name": "stdout",
     "output_type": "stream",
     "text": [
      "[[ 2  3  4]\n",
      " [ 2  6 12]\n",
      " [ 2  9 16]]\n",
      "\n",
      "[[ 2  2  2]\n",
      " [ 3  6  9]\n",
      " [ 4 12 16]]\n"
     ]
    }
   ],
   "source": [
    "A3 = np.array([[1, 1, 1], [1, 2, 3], [1, 3, 4]]) # creating matrices\n",
    "D3 = np.array([[2, 0, 0], [0, 3, 0], [0, 0, 4]])\n",
    "\n",
    "print(add_mult_matrice(A3, D3, 'multiply')) # multipling matrices with function\n",
    "print()\n",
    "print(add_mult_matrice(D3, A3, 'multiply'))"
   ]
  },
  {
   "cell_type": "markdown",
   "id": "334ca623",
   "metadata": {},
   "source": [
    "**Quiz p.11, Question 2**"
   ]
  },
  {
   "cell_type": "code",
   "execution_count": 35,
   "id": "b031a786",
   "metadata": {},
   "outputs": [
    {
     "name": "stdout",
     "output_type": "stream",
     "text": [
      "[[-2  2]\n",
      " [ 2 -2]]\n"
     ]
    }
   ],
   "source": [
    "A4 = np.array([[1, -1], [-1, 1]])\n",
    "B4 = np.array([[-1, 1], [1, -1]])\n",
    "\n",
    "print (add_mult_matrice(A4, B4, 'multiply'))"
   ]
  },
  {
   "cell_type": "markdown",
   "id": "fbfb4124",
   "metadata": {},
   "source": [
    "**Chap 6. Question 1**"
   ]
  },
  {
   "cell_type": "code",
   "execution_count": 36,
   "id": "9c68d160",
   "metadata": {},
   "outputs": [
    {
     "name": "stdout",
     "output_type": "stream",
     "text": [
      "[[ 5. -6.]\n",
      " [-4.  5.]]\n",
      "\n",
      "[[ 0.5        -0.66666667]\n",
      " [-0.5         1.        ]]\n"
     ]
    }
   ],
   "source": [
    "A5 = np.array([[5, 6], [4, 5]])\n",
    "B5 = np.array([[6, 4], [3, 3]])\n",
    "\n",
    "# find the inverse  = 1/(ad-bc) ([d,-b],[-c,a])\n",
    "print(np.linalg.inv(A5)) # using linalg.inv() to find the inverse of the matrices\n",
    "print()\n",
    "print(np.linalg.inv(B5))"
   ]
  },
  {
   "cell_type": "markdown",
   "id": "574b6d18",
   "metadata": {},
   "source": [
    "**Quiz p.19, Question 3**"
   ]
  },
  {
   "cell_type": "code",
   "execution_count": 37,
   "id": "c4cc11eb",
   "metadata": {},
   "outputs": [
    {
     "data": {
      "text/plain": [
       "array([[ 1. , -1. ],\n",
       "       [-0.5,  1. ]])"
      ]
     },
     "execution_count": 37,
     "metadata": {},
     "output_type": "execute_result"
    }
   ],
   "source": [
    "A6 = np.array([[2, 2], [1, 2]])\n",
    "np.linalg.inv(A6) # using linalg.inv() to find the inverse of the matrices"
   ]
  },
  {
   "cell_type": "markdown",
   "id": "5de93779",
   "metadata": {},
   "source": [
    "**Chap10. Question 1 a)**"
   ]
  },
  {
   "cell_type": "code",
   "execution_count": 38,
   "id": "e9a63544",
   "metadata": {},
   "outputs": [
    {
     "name": "stdout",
     "output_type": "stream",
     "text": [
      "[[ 3.]\n",
      " [ 4.]\n",
      " [-6.]]\n"
     ]
    },
    {
     "data": {
      "text/plain": [
       "array([[-7.],\n",
       "       [ 5.],\n",
       "       [ 2.]])"
      ]
     },
     "execution_count": 38,
     "metadata": {},
     "output_type": "execute_result"
    }
   ],
   "source": [
    "gauss_a = np.array([[3, -7, -2], [-3, 5, 1], [6, -4, 0]])\n",
    "\n",
    "vect_a = np.array([[1], [1], [1]])\n",
    "\n",
    "array_a = np.array([[-7], [5], [2]])\n",
    "\n",
    "gauss_ai = np.linalg.inv(gauss_a) # using linalg.inv() to find the inverse of the matrices\n",
    "vect_a=add_mult_matrice(gauss_ai, array_a, 'multiply')  # using function to multiply inverse with array_a to give vect_a values\n",
    "print(vect_a)\n",
    "\n",
    "add_mult_matrice(gauss_a, vect_a, 'multiply') # check if solution is right"
   ]
  },
  {
   "cell_type": "markdown",
   "id": "3f49e9e1",
   "metadata": {},
   "source": [
    "**Chap10. Question 1 b)**"
   ]
  },
  {
   "cell_type": "code",
   "execution_count": 39,
   "id": "6f6e72fb",
   "metadata": {},
   "outputs": [
    {
     "name": "stdout",
     "output_type": "stream",
     "text": [
      "[[ 8.]\n",
      " [ 2.]\n",
      " [-1.]]\n"
     ]
    },
    {
     "data": {
      "text/plain": [
       "array([[ 1.],\n",
       "       [-1.],\n",
       "       [ 1.]])"
      ]
     },
     "execution_count": 39,
     "metadata": {},
     "output_type": "execute_result"
    }
   ],
   "source": [
    "gauss_b = np.array([[1, -2, 3], [-1, 3, -1], [2, -5, 5]])\n",
    "\n",
    "vect_b = np.array([[1], [1], [1]])\n",
    "\n",
    "array_b = np.array([[1], [-1], [1]])\n",
    "\n",
    "gauss_bi = np.linalg.inv(gauss_b) # using linalg.inv() to find the inverse of the matrices\n",
    "vect_b=add_mult_matrice(gauss_bi, array_b, 'multiply')  # using function to multiply inverse with array_b\n",
    "print(vect_b)\n",
    "\n",
    "add_mult_matrice(gauss_b, vect_b, 'multiply') # check if solution is right"
   ]
  },
  {
   "cell_type": "markdown",
   "id": "beb0a8af",
   "metadata": {},
   "source": [
    "**Chap 12. Question 1**"
   ]
  },
  {
   "cell_type": "code",
   "execution_count": 40,
   "id": "4fe15c46",
   "metadata": {},
   "outputs": [
    {
     "data": {
      "text/plain": [
       "array([[ 0.66666667,  1.33333333,  0.5       ],\n",
       "       [ 1.        ,  2.        ,  0.5       ],\n",
       "       [-3.        , -5.        , -1.        ]])"
      ]
     },
     "execution_count": 40,
     "metadata": {},
     "output_type": "execute_result"
    }
   ],
   "source": [
    "lec_12 = np.array([[3, -7, -2], [-3, 5, 1], [6, -4, -0]])\n",
    "np.linalg.inv(lec_12)"
   ]
  },
  {
   "cell_type": "markdown",
   "id": "6a4a524f",
   "metadata": {},
   "source": [
    "### Copies and Views\n",
    "Read the following link: https://numpy.org/doc/stable/user/basics.copies.html"
   ]
  },
  {
   "cell_type": "markdown",
   "id": "6cbbeaf7",
   "metadata": {},
   "source": [
    "**Basic indexing creates a view, How can you check if v1 and v2 is a view or copy? If you change the last element in v2 to 123, will the last element in v1 be changed? Why?**"
   ]
  },
  {
   "cell_type": "code",
   "execution_count": 41,
   "id": "5b9ef4df",
   "metadata": {},
   "outputs": [
    {
     "name": "stdout",
     "output_type": "stream",
     "text": [
      "[0 1 2 3]\n",
      "[2 3]\n"
     ]
    }
   ],
   "source": [
    "v1 = np.arange(4)\n",
    "v2 = v1[-2:]\n",
    "print(v1)\n",
    "print(v2)"
   ]
  },
  {
   "cell_type": "code",
   "execution_count": 42,
   "id": "d2440489",
   "metadata": {},
   "outputs": [
    {
     "name": "stdout",
     "output_type": "stream",
     "text": [
      "None\n",
      "[0 1 2 3]\n"
     ]
    }
   ],
   "source": [
    "print(v1.base)\n",
    "print(v2.base)\n",
    "# The base attribute of a view returns the original array while it returns None for a copy."
   ]
  },
  {
   "cell_type": "code",
   "execution_count": 43,
   "id": "c8752807",
   "metadata": {},
   "outputs": [
    {
     "name": "stdout",
     "output_type": "stream",
     "text": [
      "[  0   1   2 123]\n",
      "[  2 123]\n"
     ]
    }
   ],
   "source": [
    "v2[-1] = 123\n",
    "print(v1)\n",
    "print(v2)\n",
    "# The last element in v1 will be changed aswell since v2 is a view, meaning they share the same data buffer.\n",
    "\n",
    "# since v2.base returns the attribute in the second line, it tells us that v2 is a view.\n",
    "# if you change a view, you change the original object\n",
    "# if you instead makes a copy (or deep copy) of the original object and changes it the original will stay intact"
   ]
  },
  {
   "cell_type": "code",
   "execution_count": 44,
   "id": "4966630c",
   "metadata": {},
   "outputs": [
    {
     "name": "stdout",
     "output_type": "stream",
     "text": [
      "v3-array: [  0   1   2 123]\n",
      "v3-base: None\n",
      "changed v3-array: [   0    1 1234  123]\n",
      "v1-array: [  0   1   2 123]\n"
     ]
    }
   ],
   "source": [
    "v3 = v1.copy()\n",
    "print('v3-array:', v3)\n",
    "print('v3-base:', v3.base)\n",
    "v3[-2] = 1234\n",
    "print('changed v3-array:', v3)\n",
    "print('v1-array:', v1)\n",
    "# since v3 is a copy (v3.base returns None) of the object v1, v1 won't be affected by the changes made in v3."
   ]
  },
  {
   "cell_type": "code",
   "execution_count": null,
   "id": "73b752ba",
   "metadata": {},
   "outputs": [],
   "source": []
  }
 ],
 "metadata": {
  "kernelspec": {
   "display_name": "Python 3 (ipykernel)",
   "language": "python",
   "name": "python3"
  },
  "language_info": {
   "codemirror_mode": {
    "name": "ipython",
    "version": 3
   },
   "file_extension": ".py",
   "mimetype": "text/x-python",
   "name": "python",
   "nbconvert_exporter": "python",
   "pygments_lexer": "ipython3",
   "version": "3.9.18"
  }
 },
 "nbformat": 4,
 "nbformat_minor": 5
}
